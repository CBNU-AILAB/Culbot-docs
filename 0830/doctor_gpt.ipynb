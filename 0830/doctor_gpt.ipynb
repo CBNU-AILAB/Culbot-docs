{
  "nbformat": 4,
  "nbformat_minor": 0,
  "metadata": {
    "colab": {
      "private_outputs": true,
      "provenance": [],
      "machine_shape": "hm"
    },
    "kernelspec": {
      "name": "python3",
      "display_name": "Python 3"
    },
    "language_info": {
      "name": "python"
    }
  },
  "cells": [
    {
      "cell_type": "code",
      "execution_count": null,
      "metadata": {
        "id": "zHY_JeCLCJuD"
      },
      "outputs": [],
      "source": [
        "!pip install -U torch transformers tokenizers accelerate"
      ]
    },
    {
      "cell_type": "code",
      "source": [
        "from transformers import AutoTokenizer, LlamaForCausalLM\n",
        "\n",
        "MODEL = 'llSourcell/medllama2_7b'\n",
        "\n",
        "model = LlamaForCausalLM.from_pretrained(MODEL)\n",
        "tokenizer = AutoTokenizer.from_pretrained(MODEL)"
      ],
      "metadata": {
        "id": "kmC2s3ZBCoSl"
      },
      "execution_count": null,
      "outputs": []
    },
    {
      "cell_type": "code",
      "source": [
        "prompt = f\"\"\"\n",
        "instruction: Is there a correlation between prostate-specific antigen (PSA) levels and the likelihood of prostate cancer?\n",
        "input :\n",
        "output:\n",
        "\"\"\"\n",
        "inputs = tokenizer(prompt, return_tensors=\"pt\")\n",
        "\n",
        "# Generate\n",
        "generate_ids = model.generate(inputs.input_ids, max_length=200)\n",
        "tokenizer.batch_decode(generate_ids, skip_special_tokens=True, clean_up_tokenization_spaces=False)[0]"
      ],
      "metadata": {
        "id": "KPvrPpG0NuJT"
      },
      "execution_count": null,
      "outputs": []
    },
    {
      "cell_type": "code",
      "source": [],
      "metadata": {
        "id": "pWGkPOUhg2CK"
      },
      "execution_count": null,
      "outputs": []
    }
  ]
}